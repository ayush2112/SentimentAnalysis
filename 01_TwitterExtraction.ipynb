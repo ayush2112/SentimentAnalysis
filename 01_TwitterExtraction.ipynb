{
 "cells": [
  {
   "cell_type": "markdown",
   "metadata": {},
   "source": [
    "# Twitter extraction\n",
    "\n",
    "This notebook aims to retrieve tweets, clean them and compute a sentiment in order to observe a correlation between crypto currencies and tweets' sentiments. The following steps are executed in this notebook :\n",
    "\n",
    "- Retrieve tweets with Twython API (Twitter API wrapper for python)\n",
    "- Extract the wanted data (tweet's text, #followers, #likes, etc.)\n",
    "- Clean the textual data (remove unnecessary elements like media, websites link, pseudos, ...)\n",
    "- Compute for each tweet a sentiment score with Vader (named compound) and a score linked to the popularity of the tweet and its compound\n",
    "\n",
    "This notebook is written using Python 3.6.\n",
    "\n",
    "## Setup"
   ]
  },
  {
   "cell_type": "code",
   "execution_count": 43,
   "metadata": {},
   "outputs": [],
   "source": [
    "# Define the currency\n",
    "#CURRENCY = \"zilliqa\"\n",
    "#CURRENCY_SYMBOL = \"ZIL\"\n",
    "#CURRENCY = \"nexo\"\n",
    "#CURRENCY_SYMBOL = \"NEXO\"\n",
    "CURRENCY = \"bitcoin\"\n",
    "CURRENCY_SYMBOL = \"BTC\"\n",
    "\n",
    "## personal config\n",
    "TWEETS_FOLDER    = f\"data/crypto/{CURRENCY_SYMBOL}\" # Relative path to historical data\n",
    "SEP_CHAR         = '~' # character seperating dates from and to in filename\n",
    "ENVS             = ['CRYPTO', 'LINE_COUNT', 'MOST_RECENT_FILE', 'MOST_RECENT_ID'] # Stored in var.csv\n",
    "MAX_ROW_PER_FILE = 20000 # Each file storing data has a maximum amount of rows\n",
    "\n",
    "tweets_raw_file = f'data/twitter/{CURRENCY_SYMBOL}/{CURRENCY}_tweets_raw.csv'\n",
    "tweets_clean_file = f'data/twitter/{CURRENCY_SYMBOL}/{CURRENCY}_tweets_clean.csv'\n",
    "query = f'#{CURRENCY} OR #{CURRENCY_SYMBOL}' ####TODO PUT BACK  OR {CURRENCY} OR ${CURRENCY} OR ${CURRENCY_SYMBOL}"
   ]
  },
  {
   "cell_type": "markdown",
   "metadata": {},
   "source": [
    "## 1. Retrieve the tweets from Twitter API"
   ]
  },
  {
   "cell_type": "markdown",
   "metadata": {},
   "source": [
    "### 1.1 Import Twython\n",
    "We use the *twython* package as my Python interface with the Twitter API: https://twython.readthedocs.io/en/latest/usage/starting_out.html\n",
    "\n",
    "The twython package must be installed using *pip install twython* from the command line."
   ]
  },
  {
   "cell_type": "code",
   "execution_count": 44,
   "metadata": {},
   "outputs": [],
   "source": [
    "from twython import Twython"
   ]
  },
  {
   "cell_type": "markdown",
   "metadata": {},
   "source": [
    "### 1.2 OAuth2 Authentication (*app* authentication)\n",
    "Here we use the method *OAuth2* along with the Twithon library to authenticate on the twitter API.\n",
    "\n",
    "OAuth1 will give you *user* access to the API, whereas OAuth2 will give the *app* access. For academic use the rate limits are generally better for *OAuth2* (app) authentication, with a few exceptions. For a chart showing the API limits for user and app authentication for the various parts of the Twitter API, see this chart: https://dev.twitter.com/rest/public/rate-limits\n",
    "\n",
    "Running the code block below shows that we now have a rate limit of 450 API calls. This means we can make 450 different calls to the API within the current 15-minute window. With the search API we can access 100 tweets per call. This means that, if we were downloading tweets with a specific hashtag, such as *#arnova16*, we could download 450 $\\times$ 100 or 45,000 tweets per window. This is much better than the 18,000 tweets we can access using the OAuth1 or user authentication."
   ]
  },
  {
   "cell_type": "code",
   "execution_count": 45,
   "metadata": {},
   "outputs": [
    {
     "data": {
      "text/plain": [
       "{'/search/tweets': {'limit': 450, 'remaining': 440, 'reset': 1613069827}}"
      ]
     },
     "execution_count": 45,
     "metadata": {},
     "output_type": "execute_result"
    }
   ],
   "source": [
    "APP_KEY = 'saGd6QPYxZ7ZIAY47uQNOga7H'\n",
    "APP_SECRET = '18wzJnroHgtR3NRSHuumm0o2xffC5dneR6SXdoleuifYt72OwU'\n",
    "twitter = Twython(APP_KEY, APP_SECRET, oauth_version=2)\n",
    "ACCESS_TOKEN = twitter.obtain_access_token()\n",
    "twitter = Twython(APP_KEY, access_token=ACCESS_TOKEN)\n",
    "twitter.get_application_rate_limit_status()['resources']['search']"
   ]
  },
  {
   "cell_type": "markdown",
   "metadata": {},
   "source": [
    "### 1.3 Query the twitter API\n",
    "Here we query the twitter API to get the latest tweets about bitcoin. Then we transform it to store only the useful data inside a Pandas Dataframe.\n",
    "\n",
    "The following fields are retrieved from the response:\n",
    "\n",
    "- **id** (int) : unique identifier of the tweet\n",
    "- **text** (string) : UTF-8 textual content of the tweet, max 140 chars\n",
    "- user\n",
    "  - **name** (string) : twitter's pseudo of the user\n",
    "  - **followers_count** (int) : Number of followers the user has\n",
    "- **retweet_count** (int) : Number of times the tweet has been retweeted\n",
    "- **favorite_count** (int) : Number of likes\n",
    "- **created_at** (datetime) : creation date and time of the tweet\n",
    "\n",
    "Also, we wanted to retrieve the following fields but it is not possible with the standard free API, Enteprise or premium is needed (https://developer.twitter.com/en/docs/tweets/data-dictionary/overview/tweet-object.html):\n",
    "\n",
    "- reply_count (int) : Number of times the Tweet has been replied to\n",
    "\n",
    "The pandas package must be installed using *pip install pandas* from the command line.\n",
    "\n",
    "We used the search opertators that are explained here (https://lifehacker.com/search-twitter-more-efficiently-with-these-search-opera-1598165519) to not only search by hashtag but also the tweets that contain the currency name or that have the hashtag with the currency's abreviation."
   ]
  },
  {
   "cell_type": "code",
   "execution_count": 46,
   "metadata": {},
   "outputs": [],
   "source": [
    "from time import sleep\n",
    "import json\n",
    "import pandas as pd\n",
    "import io\n",
    "from tqdm import tqdm"
   ]
  },
  {
   "cell_type": "code",
   "execution_count": 47,
   "metadata": {
    "scrolled": true
   },
   "outputs": [
    {
     "name": "stderr",
     "output_type": "stream",
     "text": [
      "100%|██████████| 10/10 [00:07<00:00,  1.42it/s]"
     ]
    },
    {
     "name": "stdout",
     "output_type": "stream",
     "text": [
      "Retrieved 996, waiting for 15 minutes until next queries\n"
     ]
    },
    {
     "name": "stderr",
     "output_type": "stream",
     "text": [
      "\n"
     ]
    }
   ],
   "source": [
    "NUMBER_OF_QUERIES = 10\n",
    "data = {\"statuses\": []}\n",
    "next_id = None\n",
    "with open(tweets_raw_file,\"a+\", encoding='utf-8') as f:\n",
    "    if not next_id:\n",
    "        f.write(\"ID,Text,UserName,UserFollowerCount,RetweetCount,Likes,CreatedAt\\n\")\n",
    "    while(True):\n",
    "        twitter = Twython(APP_KEY, access_token=ACCESS_TOKEN)\n",
    "        last_size = 0\n",
    "        for i in tqdm(range(NUMBER_OF_QUERIES)):\n",
    "            if not next_id:\n",
    "                data = twitter.search(q=query, lang='en', result_type='recent', count=\"100\") # Use since_id for tweets after id\n",
    "            else:\n",
    "                data[\"statuses\"].extend(twitter.search(q=query, lang='en', result_type='mixed', count=\"100\", max_id=next_id)[\"statuses\"])\n",
    "            if len(data[\"statuses\"]) > 1:\n",
    "                next_id = data[\"statuses\"][len(data[\"statuses\"]) - 1]['id']\n",
    "            if last_size + 1 == len(data[\"statuses\"]):\n",
    "                break\n",
    "            else:\n",
    "                last_size = len(data[\"statuses\"])\n",
    "\n",
    "        print('Retrieved {0}, waiting for 15 minutes until next queries'.format(len(data[\"statuses\"])))\n",
    "        #d = pd.DataFrame([[s[\"id\"], s[\"text\"].replace('\\n','').replace('\\r',''), s[\"user\"][\"name\"], s[\"user\"][\"followers_count\"], s[\"retweet_count\"], s[\"favorite_count\"], s[\"created_at\"]] for s in data[\"statuses\"]], columns=('ID', 'Text', 'UserName', \"UserFollowerCount\", 'RetweetCount', 'Likes', \"CreatedAt\"))\n",
    "        #d.to_csv(f, mode='a', encoding='utf-8',index=False,header=False)\n",
    "        #if last_size + 1 == len(data[\"statuses\"]):\n",
    "         #   print('No more new tweets, stopping...')\n",
    "          #  break\n",
    "        data[\"statuses\"] = []\n",
    "        break\n",
    "        sleep(910)"
   ]
  },
  {
   "cell_type": "markdown",
   "metadata": {},
   "source": [
    "## Preprocessing\n",
    "\n",
    "Now we will cleanup the data.\n",
    "\n",
    "We already filtered tweets in english in the call to the Twitter API.\n",
    "We will now filter links, @Pseudo, images, videos, unhashtag #happy -> happy.\n",
    "\n",
    "We won't transform to lower case because Vader take capital letters into consideration to emphasize sentiments.\n",
    "\n",
    "You must install `pip install tqdm`"
   ]
  },
  {
   "cell_type": "code",
   "execution_count": 48,
   "metadata": {},
   "outputs": [
    {
     "name": "stderr",
     "output_type": "stream",
     "text": [
      "100%|██████████| 1001/1001 [00:00<00:00, 3115.13it/s]\n"
     ]
    }
   ],
   "source": [
    "import re # regular expressions\n",
    "from tqdm import tnrange, tqdm_notebook, tqdm\n",
    "\n",
    "d = pd.read_csv(tweets_raw_file)\n",
    "for i,s in enumerate(tqdm(d['Text'])):\n",
    "    text = d.loc[i, 'Text']\n",
    "    text = text.replace(\"#\", \"\")\n",
    "    text = re.sub('https?://(?:[-\\w.]|(?:%[\\da-fA-F]{2}))+', '', text, flags=re.MULTILINE)\n",
    "    text = re.sub('@\\\\w+ *', '', text, flags=re.MULTILINE)\n",
    "    d.loc[i, 'Text'] = text\n",
    "f = open(tweets_clean_file, 'a+', encoding='utf-8')\n",
    "d.to_csv(f, header=True, encoding='utf-8',index=False)"
   ]
  },
  {
   "cell_type": "code",
   "execution_count": 49,
   "metadata": {
    "scrolled": true
   },
   "outputs": [
    {
     "data": {
      "text/html": [
       "<div>\n",
       "<style scoped>\n",
       "    .dataframe tbody tr th:only-of-type {\n",
       "        vertical-align: middle;\n",
       "    }\n",
       "\n",
       "    .dataframe tbody tr th {\n",
       "        vertical-align: top;\n",
       "    }\n",
       "\n",
       "    .dataframe thead th {\n",
       "        text-align: right;\n",
       "    }\n",
       "</style>\n",
       "<table border=\"1\" class=\"dataframe\">\n",
       "  <thead>\n",
       "    <tr style=\"text-align: right;\">\n",
       "      <th></th>\n",
       "      <th>ID</th>\n",
       "      <th>Text</th>\n",
       "      <th>UserName</th>\n",
       "      <th>UserFollowerCount</th>\n",
       "      <th>RetweetCount</th>\n",
       "      <th>Likes</th>\n",
       "      <th>CreatedAt</th>\n",
       "    </tr>\n",
       "  </thead>\n",
       "  <tbody>\n",
       "    <tr>\n",
       "      <th>0</th>\n",
       "      <td>1359455535255285769</td>\n",
       "      <td>RT : Don't trust banks. Always buy Bitcoin.</td>\n",
       "      <td>Raul</td>\n",
       "      <td>74</td>\n",
       "      <td>2</td>\n",
       "      <td>0</td>\n",
       "      <td>Wed Feb 10 10:53:51 +0000 2021</td>\n",
       "    </tr>\n",
       "    <tr>\n",
       "      <th>1</th>\n",
       "      <td>1359455532055199744</td>\n",
       "      <td>$aave is not done yet...the supply is so low w...</td>\n",
       "      <td>Cryptopassion</td>\n",
       "      <td>35</td>\n",
       "      <td>0</td>\n",
       "      <td>0</td>\n",
       "      <td>Wed Feb 10 10:53:50 +0000 2021</td>\n",
       "    </tr>\n",
       "    <tr>\n",
       "      <th>2</th>\n",
       "      <td>1359455528238387200</td>\n",
       "      <td>RT : 🔥TOTAL CRYPTO MARKETCAP BREAK OUT🔥🔷 This ...</td>\n",
       "      <td>Chad</td>\n",
       "      <td>14</td>\n",
       "      <td>105</td>\n",
       "      <td>0</td>\n",
       "      <td>Wed Feb 10 10:53:50 +0000 2021</td>\n",
       "    </tr>\n",
       "    <tr>\n",
       "      <th>3</th>\n",
       "      <td>1359455523704217601</td>\n",
       "      <td>My ETH 0x65862B695E11058884058a17C33bFCCFc6b1b...</td>\n",
       "      <td>Soni</td>\n",
       "      <td>32</td>\n",
       "      <td>0</td>\n",
       "      <td>0</td>\n",
       "      <td>Wed Feb 10 10:53:48 +0000 2021</td>\n",
       "    </tr>\n",
       "    <tr>\n",
       "      <th>4</th>\n",
       "      <td>1359455523385524224</td>\n",
       "      <td>RT : SNAKE Token Airdrop  Live!!! Airdrop 2nd ...</td>\n",
       "      <td>Malibu_Mo</td>\n",
       "      <td>9</td>\n",
       "      <td>4716</td>\n",
       "      <td>0</td>\n",
       "      <td>Wed Feb 10 10:53:48 +0000 2021</td>\n",
       "    </tr>\n",
       "  </tbody>\n",
       "</table>\n",
       "</div>"
      ],
      "text/plain": [
       "                    ID                                               Text  \\\n",
       "0  1359455535255285769        RT : Don't trust banks. Always buy Bitcoin.   \n",
       "1  1359455532055199744  $aave is not done yet...the supply is so low w...   \n",
       "2  1359455528238387200  RT : 🔥TOTAL CRYPTO MARKETCAP BREAK OUT🔥🔷 This ...   \n",
       "3  1359455523704217601  My ETH 0x65862B695E11058884058a17C33bFCCFc6b1b...   \n",
       "4  1359455523385524224  RT : SNAKE Token Airdrop  Live!!! Airdrop 2nd ...   \n",
       "\n",
       "        UserName UserFollowerCount RetweetCount Likes  \\\n",
       "0           Raul                74            2     0   \n",
       "1  Cryptopassion                35            0     0   \n",
       "2           Chad                14          105     0   \n",
       "3           Soni                32            0     0   \n",
       "4      Malibu_Mo                 9         4716     0   \n",
       "\n",
       "                        CreatedAt  \n",
       "0  Wed Feb 10 10:53:51 +0000 2021  \n",
       "1  Wed Feb 10 10:53:50 +0000 2021  \n",
       "2  Wed Feb 10 10:53:50 +0000 2021  \n",
       "3  Wed Feb 10 10:53:48 +0000 2021  \n",
       "4  Wed Feb 10 10:53:48 +0000 2021  "
      ]
     },
     "execution_count": 49,
     "metadata": {},
     "output_type": "execute_result"
    }
   ],
   "source": [
    "df_clean = pd.read_csv(tweets_clean_file)\n",
    "df_clean.head(5)"
   ]
  },
  {
   "cell_type": "code",
   "execution_count": 50,
   "metadata": {},
   "outputs": [
    {
     "data": {
      "text/plain": [
       "ID                                                 1359452740607332354\n",
       "Text                 \"One year's worth of bitcoin electricity consu...\n",
       "UserName                                                #100DaysOfCode\n",
       "UserFollowerCount                                                    0\n",
       "RetweetCount                                                         0\n",
       "Likes                                                                0\n",
       "CreatedAt                                                    CreatedAt\n",
       "dtype: object"
      ]
     },
     "execution_count": 50,
     "metadata": {},
     "output_type": "execute_result"
    }
   ],
   "source": [
    "df_clean.min(axis=0)"
   ]
  },
  {
   "cell_type": "code",
   "execution_count": 51,
   "metadata": {},
   "outputs": [
    {
     "data": {
      "text/plain": [
       "ID                                                                  ID\n",
       "Text                 🤝 Follow me on . Let's hunt for Bitcoins toget...\n",
       "UserName                                                           🦋🦋🦋\n",
       "UserFollowerCount                                    UserFollowerCount\n",
       "RetweetCount                                              RetweetCount\n",
       "Likes                                                            Likes\n",
       "CreatedAt                               Wed Feb 10 10:53:51 +0000 2021\n",
       "dtype: object"
      ]
     },
     "execution_count": 51,
     "metadata": {},
     "output_type": "execute_result"
    }
   ],
   "source": [
    "df_clean.max(axis=0)"
   ]
  },
  {
   "cell_type": "code",
   "execution_count": null,
   "metadata": {},
   "outputs": [],
   "source": []
  },
  {
   "cell_type": "code",
   "execution_count": 52,
   "metadata": {},
   "outputs": [],
   "source": [
    "df_clean = df_clean[df_clean['ID']!='ID']"
   ]
  },
  {
   "cell_type": "code",
   "execution_count": 53,
   "metadata": {},
   "outputs": [
    {
     "data": {
      "text/plain": [
       "'Tesla Invests $1.5 Billion in Bitcoin: Price Rallies - BTC ElonMusk - /HYeD7to8z3 /kKUG7Ku7vO'"
      ]
     },
     "execution_count": 53,
     "metadata": {},
     "output_type": "execute_result"
    }
   ],
   "source": [
    "df_clean['Text'][973]"
   ]
  },
  {
   "cell_type": "code",
   "execution_count": 54,
   "metadata": {},
   "outputs": [
    {
     "data": {
      "text/html": [
       "<div>\n",
       "<style scoped>\n",
       "    .dataframe tbody tr th:only-of-type {\n",
       "        vertical-align: middle;\n",
       "    }\n",
       "\n",
       "    .dataframe tbody tr th {\n",
       "        vertical-align: top;\n",
       "    }\n",
       "\n",
       "    .dataframe thead th {\n",
       "        text-align: right;\n",
       "    }\n",
       "</style>\n",
       "<table border=\"1\" class=\"dataframe\">\n",
       "  <thead>\n",
       "    <tr style=\"text-align: right;\">\n",
       "      <th></th>\n",
       "      <th>ID</th>\n",
       "      <th>Text</th>\n",
       "      <th>UserName</th>\n",
       "      <th>UserFollowerCount</th>\n",
       "      <th>RetweetCount</th>\n",
       "      <th>Likes</th>\n",
       "      <th>CreatedAt</th>\n",
       "    </tr>\n",
       "  </thead>\n",
       "  <tbody>\n",
       "    <tr>\n",
       "      <th>2998</th>\n",
       "      <td>1359452740607332354</td>\n",
       "      <td>RT : We continued to work with global industry...</td>\n",
       "      <td>jejes🐰🐰</td>\n",
       "      <td>83</td>\n",
       "      <td>942</td>\n",
       "      <td>0</td>\n",
       "      <td>Wed Feb 10 10:42:45 +0000 2021</td>\n",
       "    </tr>\n",
       "    <tr>\n",
       "      <th>1997</th>\n",
       "      <td>1359452740607332354</td>\n",
       "      <td>RT : We continued to work with global industry...</td>\n",
       "      <td>jejes🐰🐰</td>\n",
       "      <td>83</td>\n",
       "      <td>942</td>\n",
       "      <td>0</td>\n",
       "      <td>Wed Feb 10 10:42:45 +0000 2021</td>\n",
       "    </tr>\n",
       "    <tr>\n",
       "      <th>997</th>\n",
       "      <td>1359452740607332354</td>\n",
       "      <td>RT : We continued to work with global industry...</td>\n",
       "      <td>jejes🐰🐰</td>\n",
       "      <td>83</td>\n",
       "      <td>942</td>\n",
       "      <td>0</td>\n",
       "      <td>Wed Feb 10 10:42:45 +0000 2021</td>\n",
       "    </tr>\n",
       "    <tr>\n",
       "      <th>2997</th>\n",
       "      <td>1359452756755402754</td>\n",
       "      <td>Ideaology has listed on Uniswap! $IDEA /wcEisv...</td>\n",
       "      <td>Rakib Shakot</td>\n",
       "      <td>546</td>\n",
       "      <td>0</td>\n",
       "      <td>0</td>\n",
       "      <td>Wed Feb 10 10:42:49 +0000 2021</td>\n",
       "    </tr>\n",
       "    <tr>\n",
       "      <th>1996</th>\n",
       "      <td>1359452756755402754</td>\n",
       "      <td>Ideaology has listed on Uniswap! $IDEA /wcEisv...</td>\n",
       "      <td>Rakib Shakot</td>\n",
       "      <td>546</td>\n",
       "      <td>0</td>\n",
       "      <td>0</td>\n",
       "      <td>Wed Feb 10 10:42:49 +0000 2021</td>\n",
       "    </tr>\n",
       "    <tr>\n",
       "      <th>...</th>\n",
       "      <td>...</td>\n",
       "      <td>...</td>\n",
       "      <td>...</td>\n",
       "      <td>...</td>\n",
       "      <td>...</td>\n",
       "      <td>...</td>\n",
       "      <td>...</td>\n",
       "    </tr>\n",
       "    <tr>\n",
       "      <th>1001</th>\n",
       "      <td>1359455532055199744</td>\n",
       "      <td>$aave is not done yet...the supply is so low w...</td>\n",
       "      <td>Cryptopassion</td>\n",
       "      <td>35</td>\n",
       "      <td>0</td>\n",
       "      <td>0</td>\n",
       "      <td>Wed Feb 10 10:53:50 +0000 2021</td>\n",
       "    </tr>\n",
       "    <tr>\n",
       "      <th>1000</th>\n",
       "      <td>1359455535255285769</td>\n",
       "      <td>RT : Don't trust banks. Always buy Bitcoin.</td>\n",
       "      <td>Raul</td>\n",
       "      <td>74</td>\n",
       "      <td>2</td>\n",
       "      <td>0</td>\n",
       "      <td>Wed Feb 10 10:53:51 +0000 2021</td>\n",
       "    </tr>\n",
       "    <tr>\n",
       "      <th>2001</th>\n",
       "      <td>1359455535255285769</td>\n",
       "      <td>RT : Don't trust banks. Always buy Bitcoin.</td>\n",
       "      <td>Raul</td>\n",
       "      <td>74</td>\n",
       "      <td>2</td>\n",
       "      <td>0</td>\n",
       "      <td>Wed Feb 10 10:53:51 +0000 2021</td>\n",
       "    </tr>\n",
       "    <tr>\n",
       "      <th>3002</th>\n",
       "      <td>1359455535255285769</td>\n",
       "      <td>RT : Don't trust banks. Always buy Bitcoin.</td>\n",
       "      <td>Raul</td>\n",
       "      <td>74</td>\n",
       "      <td>2</td>\n",
       "      <td>0</td>\n",
       "      <td>Wed Feb 10 10:53:51 +0000 2021</td>\n",
       "    </tr>\n",
       "    <tr>\n",
       "      <th>0</th>\n",
       "      <td>1359455535255285769</td>\n",
       "      <td>RT : Don't trust banks. Always buy Bitcoin.</td>\n",
       "      <td>Raul</td>\n",
       "      <td>74</td>\n",
       "      <td>2</td>\n",
       "      <td>0</td>\n",
       "      <td>Wed Feb 10 10:53:51 +0000 2021</td>\n",
       "    </tr>\n",
       "  </tbody>\n",
       "</table>\n",
       "<p>3968 rows × 7 columns</p>\n",
       "</div>"
      ],
      "text/plain": [
       "                       ID                                               Text  \\\n",
       "2998  1359452740607332354  RT : We continued to work with global industry...   \n",
       "1997  1359452740607332354  RT : We continued to work with global industry...   \n",
       "997   1359452740607332354  RT : We continued to work with global industry...   \n",
       "2997  1359452756755402754  Ideaology has listed on Uniswap! $IDEA /wcEisv...   \n",
       "1996  1359452756755402754  Ideaology has listed on Uniswap! $IDEA /wcEisv...   \n",
       "...                   ...                                                ...   \n",
       "1001  1359455532055199744  $aave is not done yet...the supply is so low w...   \n",
       "1000  1359455535255285769        RT : Don't trust banks. Always buy Bitcoin.   \n",
       "2001  1359455535255285769        RT : Don't trust banks. Always buy Bitcoin.   \n",
       "3002  1359455535255285769        RT : Don't trust banks. Always buy Bitcoin.   \n",
       "0     1359455535255285769        RT : Don't trust banks. Always buy Bitcoin.   \n",
       "\n",
       "           UserName UserFollowerCount RetweetCount Likes  \\\n",
       "2998        jejes🐰🐰                83          942     0   \n",
       "1997        jejes🐰🐰                83          942     0   \n",
       "997         jejes🐰🐰                83          942     0   \n",
       "2997   Rakib Shakot               546            0     0   \n",
       "1996   Rakib Shakot               546            0     0   \n",
       "...             ...               ...          ...   ...   \n",
       "1001  Cryptopassion                35            0     0   \n",
       "1000           Raul                74            2     0   \n",
       "2001           Raul                74            2     0   \n",
       "3002           Raul                74            2     0   \n",
       "0              Raul                74            2     0   \n",
       "\n",
       "                           CreatedAt  \n",
       "2998  Wed Feb 10 10:42:45 +0000 2021  \n",
       "1997  Wed Feb 10 10:42:45 +0000 2021  \n",
       "997   Wed Feb 10 10:42:45 +0000 2021  \n",
       "2997  Wed Feb 10 10:42:49 +0000 2021  \n",
       "1996  Wed Feb 10 10:42:49 +0000 2021  \n",
       "...                              ...  \n",
       "1001  Wed Feb 10 10:53:50 +0000 2021  \n",
       "1000  Wed Feb 10 10:53:51 +0000 2021  \n",
       "2001  Wed Feb 10 10:53:51 +0000 2021  \n",
       "3002  Wed Feb 10 10:53:51 +0000 2021  \n",
       "0     Wed Feb 10 10:53:51 +0000 2021  \n",
       "\n",
       "[3968 rows x 7 columns]"
      ]
     },
     "execution_count": 54,
     "metadata": {},
     "output_type": "execute_result"
    }
   ],
   "source": [
    "df_clean.sort_values('ID')"
   ]
  },
  {
   "cell_type": "code",
   "execution_count": 55,
   "metadata": {},
   "outputs": [],
   "source": [
    "f.close()"
   ]
  },
  {
   "cell_type": "code",
   "execution_count": null,
   "metadata": {
    "collapsed": true
   },
   "outputs": [],
   "source": []
  }
 ],
 "metadata": {
  "kernelspec": {
   "display_name": "Python 3",
   "language": "python",
   "name": "python3"
  },
  "language_info": {
   "codemirror_mode": {
    "name": "ipython",
    "version": 3
   },
   "file_extension": ".py",
   "mimetype": "text/x-python",
   "name": "python",
   "nbconvert_exporter": "python",
   "pygments_lexer": "ipython3",
   "version": "3.8.5"
  }
 },
 "nbformat": 4,
 "nbformat_minor": 1
}
